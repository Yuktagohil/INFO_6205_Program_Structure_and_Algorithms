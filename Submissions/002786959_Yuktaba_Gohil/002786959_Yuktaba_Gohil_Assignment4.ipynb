{
 "cells": [
  {
   "cell_type": "markdown",
   "metadata": {},
   "source": [
    "#Assignment 4"
   ]
  },
  {
   "cell_type": "markdown",
   "metadata": {},
   "source": [
    "**Question1**<br>\n",
    "**Given an undirected graph G = (V, E), a vertex-disjoint cycle-cover is a set of vertex-disjoint cycles that cover all vertices in the graph. The vertex-disjoint cycle-cover problem asks whether a given undirected graph has a vertex-disjoint cycle cover.**\n",
    "\n",
    "**A. (10 points) Is the vertex-disjoint cycle-cover problem in P? If so, prove it.**<br>\n",
    "**B. (5 points) Suppose we require each cycle to have exactly four edges. We call this the 4-cycle-cover problem. Is the 4-cycle-cover problem in NP? If so, prove it.**<br>\n",
    "**C. (10 points) Is the 4-cycle-cover problem in NP-complete? If so, prove it.**"
   ]
  },
  {
   "cell_type": "markdown",
   "metadata": {},
   "source": [
    "***Solution:***\n",
    "\n",
    "A. The vertex-disjoint cycle-cover problem is not in P. To prove this, we will show that the problem is NP-hard. We will do this by reducing the Hamiltonian cycle problem to the vertex-disjoint cycle-cover problem.\n",
    "\n",
    "The Hamiltonian cycle problem is the problem of determining whether a given undirected graph G has a cycle that visits each vertex exactly once. The Hamiltonian cycle problem is known to be NP-complete.\n",
    "\n",
    "Given an undirected graph G = (V,E), we can construct an undirected graph G' = (V',E') as follows:\n",
    "\n",
    "+ V' = V<br>\n",
    "+ E' = E ∪ {uv | u, v ∈ V and u ≠ v and u and v are not adjacent in G}<br>\n",
    "In other words, G' is the graph G with all missing edges added.\n",
    "\n",
    "We claim that G has a Hamiltonian cycle if and only if G' has a vertex-disjoint cycle-cover.\n",
    "\n",
    "If G has a Hamiltonian cycle C, then we can construct a vertex-disjoint cycle-cover of G' by taking the following cycles:\n",
    "\n",
    "+ For each edge e ∈ C, we take the cycle that consists of e and its two neighbors in G'.<br>\n",
    "\n",
    "If G' has a vertex-disjoint cycle-cover C, then we can construct a Hamiltonian cycle of G by taking the following path:\n",
    "\n",
    "+ Start at any vertex v ∈ V.<br>\n",
    "+ Follow the edges of the cycles in C, in any order, until you return to v.\n",
    "Therefore, the vertex-disjoint cycle-cover problem is NP-hard, and therefore it is not in P.\n",
    "\n",
    "B. The 4-cycle-cover problem is in NP. To prove this, we will show that it is possible to verify a solution to the problem in polynomial time.\n",
    "\n",
    "Given an undirected graph G = (V,E) and a set of cycles C, we can check whether C is a 4-cycle-cover of G in polynomial time as follows:\n",
    "\n",
    "+ Check whether each cycle in C has exactly four edges.<br>\n",
    "+ Check whether each vertex in V belongs to exactly one cycle in C.<br>\n",
    "For the first check, we can simply count the number of edges in each cycle.<br>\n",
    "For the second check, we can maintain a list of vertices that have already been covered by C. If a vertex belongs to more than one cycle in C, then it will be listed multiple times. If a vertex does not belong to any cycle in C, then it will not be listed at all.\n",
    "\n",
    "Therefore, the 4-cycle-cover problem is in NP.\n",
    "\n",
    "C. The 4-cycle-cover problem is NP-complete. To prove this, we will show that it is possible to reduce the Hamiltonian cycle problem to the 4-cycle-cover problem in polynomial time.\n",
    "\n",
    "Given an undirected graph G = (V,E), we can construct an undirected graph G' = (V',E') as follows:\n",
    "\n",
    "+ V' = V ∪ {v_1, ..., v_n}<br>\n",
    "+ E' = E ∪ {uv | u ∈ V and v ∈ {v_1, ..., v_n}}\n",
    "\n",
    "In other words, G' is the graph G with n new vertices added, each of which is adjacent to every vertex in V.\n",
    "\n",
    "We claim that G has a Hamiltonian cycle if and only if G' has a 4-cycle-cover.\n",
    "\n",
    "If G has a Hamiltonian cycle C, then we can construct a 4-cycle-cover of G' by taking the following cycles:\n",
    "\n",
    "+ For each edge e ∈ C, we take the cycle that consists of e and its two neighbors in G'.<br>\n",
    "+ For each pair of adjacent vertices u and v in C, we take the cycle that consists of the edge uv and the two new vertices v_i and v_j that are adjacent to both u and v.\n",
    "\n",
    "If G' has a 4-cycle-cover C, then we can construct a Hamiltonian cycle of G by taking the following path:\n",
    "\n",
    "+ Start at any vertex v ∈ V.<br>\n",
    "+ Follow the edges of the cycles in C, in any order, until you return to v.\n",
    "Therefore, the 4-cycle-cover problem is NP-complete."
   ]
  },
  {
   "cell_type": "markdown",
   "metadata": {},
   "source": [
    "**Relevance to the Sample Problem:**\n",
    "+ The problem is related to the sample problem in the sense that both are variations of the cycle-cover problem, which involves finding sets of cycles that cover all vertices in a graph.<br>\n",
    "+ However, the sample problem dealt with directed graphs, while this problem involves undirected graphs. This distinction impacts how cycles are formed and identified within the graph due to the presence or absence of edge directions.<br>\n",
    "+ Sample problem didn't specify an edge limit for the cycles in the cycle cover (atmost three edges), while this problem requires cycles to have a particular number of edges (exactly four edges) in the cycle cover."
   ]
  },
  {
   "cell_type": "markdown",
   "metadata": {},
   "source": [
    "**Reflection Quality:**\n",
    "\n",
    "+ I used chatGPT to frame the question similar to the sample problem.\n",
    "+ However, to solve the problem, I learnt various concepts like Graph Theory, NP-Completeness, Hamiltonian path and vertex-disjoint cycle-cover problem that are needed to solve the problem.\n",
    "+ I have included my understanding of these concepts in the readme file."
   ]
  }
 ],
 "metadata": {
  "language_info": {
   "name": "python"
  }
 },
 "nbformat": 4,
 "nbformat_minor": 2
}
